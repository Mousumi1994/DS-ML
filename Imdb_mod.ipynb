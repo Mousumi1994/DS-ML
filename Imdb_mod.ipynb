{
 "cells": [
  {
   "cell_type": "code",
   "execution_count": 1,
   "id": "3c1b6241-abac-462c-a187-4412ebcb3ec2",
   "metadata": {},
   "outputs": [],
   "source": [
    "import pandas as pd\n",
    "import tensorflow_datasets as tfds\n",
    "train_dataset, val_dataset, test_dataset = tfds.load('imdb_reviews', split=[\"train[:90%]\", \"train[90%:]\", \"test\"], as_supervised=True)"
   ]
  },
  {
   "cell_type": "code",
   "execution_count": 2,
   "id": "303dbd40-04e9-41ee-88fd-0b51c20e7224",
   "metadata": {},
   "outputs": [],
   "source": [
    "test_df = pd.DataFrame(test_dataset, columns=['Review','Label'])"
   ]
  },
  {
   "cell_type": "code",
   "execution_count": 3,
   "id": "fb3d1ea9-453d-42f3-b09b-e958f1bc9711",
   "metadata": {},
   "outputs": [
    {
     "data": {
      "text/html": [
       "<div>\n",
       "<style scoped>\n",
       "    .dataframe tbody tr th:only-of-type {\n",
       "        vertical-align: middle;\n",
       "    }\n",
       "\n",
       "    .dataframe tbody tr th {\n",
       "        vertical-align: top;\n",
       "    }\n",
       "\n",
       "    .dataframe thead th {\n",
       "        text-align: right;\n",
       "    }\n",
       "</style>\n",
       "<table border=\"1\" class=\"dataframe\">\n",
       "  <thead>\n",
       "    <tr style=\"text-align: right;\">\n",
       "      <th></th>\n",
       "      <th>Review</th>\n",
       "      <th>Label</th>\n",
       "    </tr>\n",
       "  </thead>\n",
       "  <tbody>\n",
       "    <tr>\n",
       "      <th>0</th>\n",
       "      <td>tf.Tensor(b\"There are films that make careers....</td>\n",
       "      <td>tf.Tensor(1, shape=(), dtype=int64)</td>\n",
       "    </tr>\n",
       "    <tr>\n",
       "      <th>1</th>\n",
       "      <td>tf.Tensor(b\"A blackly comic tale of a down-tro...</td>\n",
       "      <td>tf.Tensor(1, shape=(), dtype=int64)</td>\n",
       "    </tr>\n",
       "    <tr>\n",
       "      <th>2</th>\n",
       "      <td>tf.Tensor(b'Scary Movie 1-4, Epic Movie, Date ...</td>\n",
       "      <td>tf.Tensor(0, shape=(), dtype=int64)</td>\n",
       "    </tr>\n",
       "    <tr>\n",
       "      <th>3</th>\n",
       "      <td>tf.Tensor(b'Poor Shirley MacLaine tries hard t...</td>\n",
       "      <td>tf.Tensor(0, shape=(), dtype=int64)</td>\n",
       "    </tr>\n",
       "    <tr>\n",
       "      <th>4</th>\n",
       "      <td>tf.Tensor(b'As a former Erasmus student I enjo...</td>\n",
       "      <td>tf.Tensor(1, shape=(), dtype=int64)</td>\n",
       "    </tr>\n",
       "  </tbody>\n",
       "</table>\n",
       "</div>"
      ],
      "text/plain": [
       "                                              Review  \\\n",
       "0  tf.Tensor(b\"There are films that make careers....   \n",
       "1  tf.Tensor(b\"A blackly comic tale of a down-tro...   \n",
       "2  tf.Tensor(b'Scary Movie 1-4, Epic Movie, Date ...   \n",
       "3  tf.Tensor(b'Poor Shirley MacLaine tries hard t...   \n",
       "4  tf.Tensor(b'As a former Erasmus student I enjo...   \n",
       "\n",
       "                                 Label  \n",
       "0  tf.Tensor(1, shape=(), dtype=int64)  \n",
       "1  tf.Tensor(1, shape=(), dtype=int64)  \n",
       "2  tf.Tensor(0, shape=(), dtype=int64)  \n",
       "3  tf.Tensor(0, shape=(), dtype=int64)  \n",
       "4  tf.Tensor(1, shape=(), dtype=int64)  "
      ]
     },
     "execution_count": 3,
     "metadata": {},
     "output_type": "execute_result"
    }
   ],
   "source": [
    "test_df.head()"
   ]
  },
  {
   "cell_type": "code",
   "execution_count": 5,
   "id": "b4818a90-8d07-4de7-8324-546b1946070c",
   "metadata": {},
   "outputs": [],
   "source": [
    "import numpy as np\n",
    "import tensorflow as tf"
   ]
  },
  {
   "cell_type": "code",
   "execution_count": 6,
   "id": "b53970e8-0e6e-4151-bc3a-6fe420241aa9",
   "metadata": {},
   "outputs": [],
   "source": [
    "tf.random.set_seed(42)\n",
    "train_set = train_dataset.shuffle(5000, seed=42).batch(32).prefetch(1)\n",
    "valid_set = val_dataset.batch(32).prefetch(1)\n",
    "test_set = test_dataset.batch(32).prefetch(1)"
   ]
  },
  {
   "cell_type": "code",
   "execution_count": 7,
   "id": "dfd3f030-ae87-4e7a-a943-95b8cd30c0fb",
   "metadata": {},
   "outputs": [],
   "source": [
    "vocab_size =1000\n",
    "text_vec_layer = tf.keras.layers.TextVectorization(max_tokens=vocab_size)\n",
    "text_vec_layer.adapt(train_dataset.map(lambda reviews, labels: reviews))"
   ]
  },
  {
   "cell_type": "code",
   "execution_count": 10,
   "id": "f1a97c2b-95f5-4df1-9012-fab9b2f269a3",
   "metadata": {},
   "outputs": [],
   "source": [
    "embed_size = 128\n",
    "inputs = tf.keras.layers.Input(shape=[], dtype=tf.string)\n",
    "token_ids = text_vec_layer(inputs)\n",
    "Z = tf.keras.layers.Embedding(vocab_size, embed_size,  mask_zero=True)(token_ids)\n",
    "Z = tf.keras.layers.GRU(128,  dropout=0.2)(Z)\n",
    "outputs = tf.keras.layers.Dense(1, activation=\"sigmoid\")(Z)\n",
    "model = tf.keras.Model(inputs=[inputs], outputs=[outputs])"
   ]
  },
  {
   "cell_type": "code",
   "execution_count": 11,
   "id": "521e2546-919b-4452-9f3b-d9f8959ac1b5",
   "metadata": {},
   "outputs": [
    {
     "name": "stdout",
     "output_type": "stream",
     "text": [
      "Epoch 1/10\n"
     ]
    },
    {
     "name": "stderr",
     "output_type": "stream",
     "text": [
      "C:\\anaconda\\Lib\\site-packages\\keras\\src\\models\\functional.py:225: UserWarning: The structure of `inputs` doesn't match the expected structure: ['keras_tensor_2']. Received: the structure of inputs=*\n",
      "  warnings.warn(\n"
     ]
    },
    {
     "name": "stdout",
     "output_type": "stream",
     "text": [
      "\u001b[1m704/704\u001b[0m \u001b[32m━━━━━━━━━━━━━━━━━━━━\u001b[0m\u001b[37m\u001b[0m \u001b[1m480s\u001b[0m 675ms/step - accuracy: 0.6669 - loss: 0.6038 - val_accuracy: 0.8072 - val_loss: 0.4495\n",
      "Epoch 2/10\n",
      "\u001b[1m704/704\u001b[0m \u001b[32m━━━━━━━━━━━━━━━━━━━━\u001b[0m\u001b[37m\u001b[0m \u001b[1m492s\u001b[0m 699ms/step - accuracy: 0.8291 - loss: 0.3977 - val_accuracy: 0.8636 - val_loss: 0.3149\n",
      "Epoch 3/10\n",
      "\u001b[1m704/704\u001b[0m \u001b[32m━━━━━━━━━━━━━━━━━━━━\u001b[0m\u001b[37m\u001b[0m \u001b[1m506s\u001b[0m 719ms/step - accuracy: 0.8787 - loss: 0.2995 - val_accuracy: 0.8660 - val_loss: 0.3157\n",
      "Epoch 4/10\n",
      "\u001b[1m704/704\u001b[0m \u001b[32m━━━━━━━━━━━━━━━━━━━━\u001b[0m\u001b[37m\u001b[0m \u001b[1m506s\u001b[0m 718ms/step - accuracy: 0.8890 - loss: 0.2711 - val_accuracy: 0.8684 - val_loss: 0.3050\n",
      "Epoch 5/10\n",
      "\u001b[1m704/704\u001b[0m \u001b[32m━━━━━━━━━━━━━━━━━━━━\u001b[0m\u001b[37m\u001b[0m \u001b[1m1064s\u001b[0m 2s/step - accuracy: 0.8947 - loss: 0.2567 - val_accuracy: 0.8668 - val_loss: 0.3089\n",
      "Epoch 6/10\n",
      "\u001b[1m704/704\u001b[0m \u001b[32m━━━━━━━━━━━━━━━━━━━━\u001b[0m\u001b[37m\u001b[0m \u001b[1m404s\u001b[0m 573ms/step - accuracy: 0.9014 - loss: 0.2465 - val_accuracy: 0.8612 - val_loss: 0.3170\n",
      "Epoch 7/10\n",
      "\u001b[1m704/704\u001b[0m \u001b[32m━━━━━━━━━━━━━━━━━━━━\u001b[0m\u001b[37m\u001b[0m \u001b[1m5523s\u001b[0m 8s/step - accuracy: 0.9073 - loss: 0.2259 - val_accuracy: 0.8608 - val_loss: 0.3256\n",
      "Epoch 8/10\n",
      "\u001b[1m704/704\u001b[0m \u001b[32m━━━━━━━━━━━━━━━━━━━━\u001b[0m\u001b[37m\u001b[0m \u001b[1m422s\u001b[0m 599ms/step - accuracy: 0.9188 - loss: 0.2065 - val_accuracy: 0.8608 - val_loss: 0.3598\n",
      "Epoch 9/10\n",
      "\u001b[1m704/704\u001b[0m \u001b[32m━━━━━━━━━━━━━━━━━━━━\u001b[0m\u001b[37m\u001b[0m \u001b[1m414s\u001b[0m 588ms/step - accuracy: 0.9251 - loss: 0.1896 - val_accuracy: 0.8576 - val_loss: 0.3994\n",
      "Epoch 10/10\n",
      "\u001b[1m704/704\u001b[0m \u001b[32m━━━━━━━━━━━━━━━━━━━━\u001b[0m\u001b[37m\u001b[0m \u001b[1m417s\u001b[0m 592ms/step - accuracy: 0.9333 - loss: 0.1689 - val_accuracy: 0.8520 - val_loss: 0.4008\n"
     ]
    }
   ],
   "source": [
    "model.compile(loss=\"binary_crossentropy\", optimizer=\"nadam\", metrics=[\"accuracy\"])\n",
    "history = model.fit(train_set, validation_data=valid_set, epochs=10)"
   ]
  },
  {
   "cell_type": "code",
   "execution_count": 12,
   "id": "8cd9e290-d6fd-494d-a904-6c4628b81ce9",
   "metadata": {},
   "outputs": [
    {
     "name": "stdout",
     "output_type": "stream",
     "text": [
      "\u001b[1m782/782\u001b[0m \u001b[32m━━━━━━━━━━━━━━━━━━━━\u001b[0m\u001b[37m\u001b[0m \u001b[1m86s\u001b[0m 110ms/step - accuracy: 0.8585 - loss: 0.3960\n"
     ]
    },
    {
     "data": {
      "text/plain": [
       "[0.38889485597610474, 0.858959972858429]"
      ]
     },
     "execution_count": 12,
     "metadata": {},
     "output_type": "execute_result"
    }
   ],
   "source": [
    "model.evaluate(test_set, batch_size=128)"
   ]
  },
  {
   "cell_type": "code",
   "execution_count": 13,
   "id": "509d704a-2a8c-44bc-948f-3d75a6e89921",
   "metadata": {},
   "outputs": [
    {
     "name": "stdout",
     "output_type": "stream",
     "text": [
      "\u001b[1m782/782\u001b[0m \u001b[32m━━━━━━━━━━━━━━━━━━━━\u001b[0m\u001b[37m\u001b[0m \u001b[1m91s\u001b[0m 116ms/step\n"
     ]
    }
   ],
   "source": [
    "result = model.predict(test_set)"
   ]
  },
  {
   "cell_type": "code",
   "execution_count": 14,
   "id": "cd069ac8-ce01-473d-9d37-5d56e73b8b2c",
   "metadata": {},
   "outputs": [
    {
     "data": {
      "text/html": [
       "<div>\n",
       "<style scoped>\n",
       "    .dataframe tbody tr th:only-of-type {\n",
       "        vertical-align: middle;\n",
       "    }\n",
       "\n",
       "    .dataframe tbody tr th {\n",
       "        vertical-align: top;\n",
       "    }\n",
       "\n",
       "    .dataframe thead th {\n",
       "        text-align: right;\n",
       "    }\n",
       "</style>\n",
       "<table border=\"1\" class=\"dataframe\">\n",
       "  <thead>\n",
       "    <tr style=\"text-align: right;\">\n",
       "      <th></th>\n",
       "      <th>Review</th>\n",
       "      <th>Label</th>\n",
       "    </tr>\n",
       "  </thead>\n",
       "  <tbody>\n",
       "    <tr>\n",
       "      <th>5600</th>\n",
       "      <td>tf.Tensor(b'This is one of the most awful movi...</td>\n",
       "      <td>tf.Tensor(0, shape=(), dtype=int64)</td>\n",
       "    </tr>\n",
       "  </tbody>\n",
       "</table>\n",
       "</div>"
      ],
      "text/plain": [
       "                                                 Review  \\\n",
       "5600  tf.Tensor(b'This is one of the most awful movi...   \n",
       "\n",
       "                                    Label  \n",
       "5600  tf.Tensor(0, shape=(), dtype=int64)  "
      ]
     },
     "execution_count": 14,
     "metadata": {},
     "output_type": "execute_result"
    }
   ],
   "source": [
    "test_df[5600:5601]"
   ]
  },
  {
   "cell_type": "code",
   "execution_count": 15,
   "id": "0a8d7b7f-0d39-4d35-86d3-dd252e7a12b6",
   "metadata": {},
   "outputs": [
    {
     "data": {
      "text/plain": [
       "array([0.00140015], dtype=float32)"
      ]
     },
     "execution_count": 15,
     "metadata": {},
     "output_type": "execute_result"
    }
   ],
   "source": [
    "result[5600]"
   ]
  },
  {
   "cell_type": "code",
   "execution_count": 17,
   "id": "692b63ac-6d6d-4ee6-af21-e5cfe41a78b2",
   "metadata": {},
   "outputs": [
    {
     "data": {
      "text/html": [
       "<div>\n",
       "<style scoped>\n",
       "    .dataframe tbody tr th:only-of-type {\n",
       "        vertical-align: middle;\n",
       "    }\n",
       "\n",
       "    .dataframe tbody tr th {\n",
       "        vertical-align: top;\n",
       "    }\n",
       "\n",
       "    .dataframe thead th {\n",
       "        text-align: right;\n",
       "    }\n",
       "</style>\n",
       "<table border=\"1\" class=\"dataframe\">\n",
       "  <thead>\n",
       "    <tr style=\"text-align: right;\">\n",
       "      <th></th>\n",
       "      <th>Review</th>\n",
       "      <th>Label</th>\n",
       "    </tr>\n",
       "  </thead>\n",
       "  <tbody>\n",
       "    <tr>\n",
       "      <th>755</th>\n",
       "      <td>tf.Tensor(b\"The net is an excellent movie! It'...</td>\n",
       "      <td>tf.Tensor(1, shape=(), dtype=int64)</td>\n",
       "    </tr>\n",
       "  </tbody>\n",
       "</table>\n",
       "</div>"
      ],
      "text/plain": [
       "                                                Review  \\\n",
       "755  tf.Tensor(b\"The net is an excellent movie! It'...   \n",
       "\n",
       "                                   Label  \n",
       "755  tf.Tensor(1, shape=(), dtype=int64)  "
      ]
     },
     "execution_count": 17,
     "metadata": {},
     "output_type": "execute_result"
    }
   ],
   "source": [
    "test_df[755:756]"
   ]
  },
  {
   "cell_type": "code",
   "execution_count": 18,
   "id": "4da6be33-5d57-483a-8686-741322d3c708",
   "metadata": {},
   "outputs": [
    {
     "data": {
      "text/plain": [
       "array([0.9979615], dtype=float32)"
      ]
     },
     "execution_count": 18,
     "metadata": {},
     "output_type": "execute_result"
    }
   ],
   "source": [
    "result[755]"
   ]
  }
 ],
 "metadata": {
  "kernelspec": {
   "display_name": "Python 3 (ipykernel)",
   "language": "python",
   "name": "python3"
  },
  "language_info": {
   "codemirror_mode": {
    "name": "ipython",
    "version": 3
   },
   "file_extension": ".py",
   "mimetype": "text/x-python",
   "name": "python",
   "nbconvert_exporter": "python",
   "pygments_lexer": "ipython3",
   "version": "3.12.4"
  }
 },
 "nbformat": 4,
 "nbformat_minor": 5
}
